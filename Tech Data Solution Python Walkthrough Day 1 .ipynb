{
 "cells": [
  {
   "cell_type": "code",
   "execution_count": 1,
   "id": "e9f5f475",
   "metadata": {},
   "outputs": [],
   "source": [
    "# Import modules\n",
    "\n",
    "import pandas as pd\n",
    "import numpy as np\n"
   ]
  },
  {
   "cell_type": "code",
   "execution_count": 3,
   "id": "5804d06c",
   "metadata": {},
   "outputs": [
    {
     "name": "stdout",
     "output_type": "stream",
     "text": [
      "Hello World\n"
     ]
    }
   ],
   "source": [
    "# Hello World\n",
    "\n",
    "print('Hello World') # This will print hello world as output"
   ]
  },
  {
   "cell_type": "code",
   "execution_count": 4,
   "id": "6540c2e0",
   "metadata": {},
   "outputs": [
    {
     "name": "stdout",
     "output_type": "stream",
     "text": [
      "The Zen of Python, by Tim Peters\n",
      "\n",
      "Beautiful is better than ugly.\n",
      "Explicit is better than implicit.\n",
      "Simple is better than complex.\n",
      "Complex is better than complicated.\n",
      "Flat is better than nested.\n",
      "Sparse is better than dense.\n",
      "Readability counts.\n",
      "Special cases aren't special enough to break the rules.\n",
      "Although practicality beats purity.\n",
      "Errors should never pass silently.\n",
      "Unless explicitly silenced.\n",
      "In the face of ambiguity, refuse the temptation to guess.\n",
      "There should be one-- and preferably only one --obvious way to do it.\n",
      "Although that way may not be obvious at first unless you're Dutch.\n",
      "Now is better than never.\n",
      "Although never is often better than *right* now.\n",
      "If the implementation is hard to explain, it's a bad idea.\n",
      "If the implementation is easy to explain, it may be a good idea.\n",
      "Namespaces are one honking great idea -- let's do more of those!\n"
     ]
    }
   ],
   "source": [
    "# Zen of python \n",
    "\n",
    "import this"
   ]
  },
  {
   "cell_type": "markdown",
   "id": "d93c85b2",
   "metadata": {},
   "source": [
    "# what is Goal of this programme\n",
    "Get Started with python\n",
    "#Get Comfortable with jupyter notebook #Understand input and print #Learn String methods: Capitalize, lower,isdecimal,replace"
   ]
  },
  {
   "cell_type": "code",
   "execution_count": 8,
   "id": "13a0030e",
   "metadata": {},
   "outputs": [
    {
     "name": "stdout",
     "output_type": "stream",
     "text": [
      "My class has strength of  7\n"
     ]
    }
   ],
   "source": [
    "# Lets Start with printing \n",
    "\n",
    "print(\"My class has strength of \",7)"
   ]
  },
  {
   "cell_type": "markdown",
   "id": "572ed524",
   "metadata": {},
   "source": [
    "# Variables & Types"
   ]
  },
  {
   "cell_type": "code",
   "execution_count": 9,
   "id": "0dc76128",
   "metadata": {},
   "outputs": [],
   "source": [
    "# Declaration of variables\n",
    "\n",
    "a=\"Ajay wants to be a Data Scientist\"\n",
    "b=93\n",
    "c=0.123\n",
    "\n"
   ]
  },
  {
   "cell_type": "code",
   "execution_count": 30,
   "id": "d7e5a88b",
   "metadata": {},
   "outputs": [
    {
     "data": {
      "text/plain": [
       "int"
      ]
     },
     "execution_count": 30,
     "metadata": {},
     "output_type": "execute_result"
    }
   ],
   "source": [
    "type(a)"
   ]
  },
  {
   "cell_type": "code",
   "execution_count": 31,
   "id": "9c16b083",
   "metadata": {},
   "outputs": [
    {
     "data": {
      "text/plain": [
       "int"
      ]
     },
     "execution_count": 31,
     "metadata": {},
     "output_type": "execute_result"
    }
   ],
   "source": [
    "type(b)"
   ]
  },
  {
   "cell_type": "code",
   "execution_count": 12,
   "id": "e1b4df6e",
   "metadata": {},
   "outputs": [
    {
     "data": {
      "text/plain": [
       "float"
      ]
     },
     "execution_count": 12,
     "metadata": {},
     "output_type": "execute_result"
    }
   ],
   "source": [
    "type(c)"
   ]
  },
  {
   "cell_type": "code",
   "execution_count": 16,
   "id": "59642b2f",
   "metadata": {},
   "outputs": [
    {
     "name": "stdout",
     "output_type": "stream",
     "text": [
      "Ajay wants to be a Data Scientist\n"
     ]
    }
   ],
   "source": [
    "print(a)"
   ]
  },
  {
   "cell_type": "markdown",
   "id": "397acc15",
   "metadata": {},
   "source": [
    "# INTEGERS"
   ]
  },
  {
   "cell_type": "code",
   "execution_count": 22,
   "id": "20a40856",
   "metadata": {},
   "outputs": [],
   "source": [
    "a= 1000\n",
    "b= 20000"
   ]
  },
  {
   "cell_type": "code",
   "execution_count": 23,
   "id": "d8e46f23",
   "metadata": {},
   "outputs": [
    {
     "data": {
      "text/plain": [
       "(int, int)"
      ]
     },
     "execution_count": 23,
     "metadata": {},
     "output_type": "execute_result"
    }
   ],
   "source": [
    "type(a), type(b)"
   ]
  },
  {
   "cell_type": "code",
   "execution_count": 24,
   "id": "57335c1a",
   "metadata": {},
   "outputs": [
    {
     "data": {
      "text/plain": [
       "0.05"
      ]
     },
     "execution_count": 24,
     "metadata": {},
     "output_type": "execute_result"
    }
   ],
   "source": [
    "a/b"
   ]
  },
  {
   "cell_type": "code",
   "execution_count": 25,
   "id": "5d049607",
   "metadata": {},
   "outputs": [
    {
     "data": {
      "text/plain": [
       "20.0"
      ]
     },
     "execution_count": 25,
     "metadata": {},
     "output_type": "execute_result"
    }
   ],
   "source": [
    "b/a"
   ]
  },
  {
   "cell_type": "code",
   "execution_count": 26,
   "id": "e38499b5",
   "metadata": {},
   "outputs": [
    {
     "data": {
      "text/plain": [
       "-19000"
      ]
     },
     "execution_count": 26,
     "metadata": {},
     "output_type": "execute_result"
    }
   ],
   "source": [
    "a-b"
   ]
  },
  {
   "cell_type": "code",
   "execution_count": 27,
   "id": "88f863c2",
   "metadata": {},
   "outputs": [
    {
     "data": {
      "text/plain": [
       "21000"
      ]
     },
     "execution_count": 27,
     "metadata": {},
     "output_type": "execute_result"
    }
   ],
   "source": [
    "a+b"
   ]
  },
  {
   "cell_type": "markdown",
   "id": "bffa2627",
   "metadata": {},
   "source": [
    "# Float\n",
    "Float is a number with digits on both sides of the decimals."
   ]
  },
  {
   "cell_type": "code",
   "execution_count": 33,
   "id": "73f80430",
   "metadata": {},
   "outputs": [],
   "source": [
    "a=5.3123\n",
    "b=6.21901388888888888888888888888"
   ]
  },
  {
   "cell_type": "code",
   "execution_count": 43,
   "id": "9b6d5112",
   "metadata": {},
   "outputs": [],
   "source": [
    "Ajay_7=20.30000\n",
    "Anjali=300.213313"
   ]
  },
  {
   "cell_type": "code",
   "execution_count": 45,
   "id": "c7ec176d",
   "metadata": {},
   "outputs": [
    {
     "data": {
      "text/plain": [
       "float"
      ]
     },
     "execution_count": 45,
     "metadata": {},
     "output_type": "execute_result"
    }
   ],
   "source": [
    "type(Ajay_7)"
   ]
  },
  {
   "cell_type": "code",
   "execution_count": 46,
   "id": "d80959a0",
   "metadata": {},
   "outputs": [
    {
     "data": {
      "text/plain": [
       "14.78883315270936"
      ]
     },
     "execution_count": 46,
     "metadata": {},
     "output_type": "execute_result"
    }
   ],
   "source": [
    "Anjali/Ajay_7"
   ]
  },
  {
   "cell_type": "code",
   "execution_count": 39,
   "id": "f6b0203e",
   "metadata": {},
   "outputs": [
    {
     "data": {
      "text/plain": [
       "(float, float)"
      ]
     },
     "execution_count": 39,
     "metadata": {},
     "output_type": "execute_result"
    }
   ],
   "source": [
    "type(a),type(b)"
   ]
  },
  {
   "cell_type": "code",
   "execution_count": 35,
   "id": "fb697e70",
   "metadata": {},
   "outputs": [
    {
     "data": {
      "text/plain": [
       "11.531313888888889"
      ]
     },
     "execution_count": 35,
     "metadata": {},
     "output_type": "execute_result"
    }
   ],
   "source": [
    "a+b"
   ]
  },
  {
   "cell_type": "code",
   "execution_count": 36,
   "id": "1a688261",
   "metadata": {},
   "outputs": [
    {
     "data": {
      "text/plain": [
       "0.9067138888888895"
      ]
     },
     "execution_count": 36,
     "metadata": {},
     "output_type": "execute_result"
    }
   ],
   "source": [
    "b-a"
   ]
  },
  {
   "cell_type": "code",
   "execution_count": 37,
   "id": "dae74ce2",
   "metadata": {},
   "outputs": [
    {
     "data": {
      "text/plain": [
       "1.1706819812301432"
      ]
     },
     "execution_count": 37,
     "metadata": {},
     "output_type": "execute_result"
    }
   ],
   "source": [
    "b/a"
   ]
  },
  {
   "cell_type": "code",
   "execution_count": null,
   "id": "9db5bf8b",
   "metadata": {},
   "outputs": [],
   "source": []
  },
  {
   "cell_type": "markdown",
   "id": "d7fa430e",
   "metadata": {},
   "source": [
    "# Maths functions\n",
    "abs() Returns Absolute value of the number\n",
    "POW() Raises Number to the power\n",
    "round() Rounds the floating value"
   ]
  },
  {
   "cell_type": "code",
   "execution_count": 48,
   "id": "5915923a",
   "metadata": {},
   "outputs": [
    {
     "data": {
      "text/plain": [
       "3000005050050500"
      ]
     },
     "execution_count": 48,
     "metadata": {},
     "output_type": "execute_result"
    }
   ],
   "source": [
    "# abs()\n",
    "\n",
    "abs(-3000005050050500)"
   ]
  },
  {
   "cell_type": "code",
   "execution_count": 54,
   "id": "1cad0620",
   "metadata": {},
   "outputs": [
    {
     "data": {
      "text/plain": [
       "27"
      ]
     },
     "execution_count": 54,
     "metadata": {},
     "output_type": "execute_result"
    }
   ],
   "source": [
    "pow(3,3)"
   ]
  },
  {
   "cell_type": "code",
   "execution_count": 55,
   "id": "73daa88d",
   "metadata": {},
   "outputs": [
    {
     "data": {
      "text/plain": [
       "2333"
      ]
     },
     "execution_count": 55,
     "metadata": {},
     "output_type": "execute_result"
    }
   ],
   "source": [
    "round(2333.212)"
   ]
  },
  {
   "cell_type": "code",
   "execution_count": 61,
   "id": "2515a8eb",
   "metadata": {},
   "outputs": [
    {
     "data": {
      "text/plain": [
       "300.5556"
      ]
     },
     "execution_count": 61,
     "metadata": {},
     "output_type": "execute_result"
    }
   ],
   "source": [
    "round(300.555555,4)"
   ]
  },
  {
   "cell_type": "markdown",
   "id": "644b0816",
   "metadata": {},
   "source": [
    "# Strings\n",
    "String is sequence of characters"
   ]
  },
  {
   "cell_type": "code",
   "execution_count": null,
   "id": "7ddaf2f5",
   "metadata": {},
   "outputs": [],
   "source": [
    "a= 'Steve Rogers'\n",
    "b='Bruce Banner'"
   ]
  },
  {
   "cell_type": "code",
   "execution_count": null,
   "id": "0da07c70",
   "metadata": {},
   "outputs": [],
   "source": [
    "# adding the int in the string \n",
    "\n",
    "c=2 \n",
    "\n",
    "print(f\"Steve Roger has{c}weapons\")"
   ]
  },
  {
   "cell_type": "markdown",
   "id": "73d8c52d",
   "metadata": {},
   "source": [
    "# Boolean\n",
    "True and False\n",
    "Either it rains or not -> Eithher you take umbrella or not"
   ]
  },
  {
   "cell_type": "code",
   "execution_count": null,
   "id": "20b5b692",
   "metadata": {},
   "outputs": [],
   "source": [
    "True"
   ]
  },
  {
   "cell_type": "code",
   "execution_count": null,
   "id": "09153ec4",
   "metadata": {},
   "outputs": [],
   "source": [
    "False"
   ]
  },
  {
   "cell_type": "code",
   "execution_count": null,
   "id": "fada73ac",
   "metadata": {},
   "outputs": [],
   "source": [
    "Test= 100>0"
   ]
  },
  {
   "cell_type": "code",
   "execution_count": null,
   "id": "d0c5bc1a",
   "metadata": {},
   "outputs": [],
   "source": [
    "test_2 =50>100"
   ]
  },
  {
   "cell_type": "code",
   "execution_count": null,
   "id": "872d7a63",
   "metadata": {},
   "outputs": [],
   "source": [
    "test_2"
   ]
  }
 ],
 "metadata": {
  "kernelspec": {
   "display_name": "Python 3 (ipykernel)",
   "language": "python",
   "name": "python3"
  },
  "language_info": {
   "codemirror_mode": {
    "name": "ipython",
    "version": 3
   },
   "file_extension": ".py",
   "mimetype": "text/x-python",
   "name": "python",
   "nbconvert_exporter": "python",
   "pygments_lexer": "ipython3",
   "version": "3.9.7"
  }
 },
 "nbformat": 4,
 "nbformat_minor": 5
}
